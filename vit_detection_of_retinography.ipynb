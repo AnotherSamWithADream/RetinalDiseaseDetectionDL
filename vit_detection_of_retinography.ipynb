# Updated metadata for Codespaces
{
  "metadata": {
    "kernelspec": {
      "display_name": "Python 3",
      "name": "python3"
    },
    "language_info": {
      "name": "python",
      "version": "3.7.10",
      "mimetype": "text/x-python",
      "codemirror_mode": {
        "name": "ipython",
        "version": 3
      },
      "pygments_lexer": "ipython3",
      "nbconvert_exporter": "python",
      "file_extension": ".py"
    }
  },
  "nbformat_minor": 0,
  "nbformat": 4,
  "cells": [
    {
      "cell_type": "code",
      "source": [
        "from __future__ import print_function\n",
        "\n",
        "import glob\n",
        "from itertools import chain\n",
        "\n",
        "import os\n",
        "import random\n",
        "import zipfile\n",
        "\n",
        "import matplotlib.pyplot as plt\n",
        "import numpy as np\n",
        "import pandas as pd\n",
        "import torch\n",
        "import torch.nn as nn\n",
        "import torch.nn.functional as F\n",
        "import torch.optim as optim\n",
        "from PIL import Image\n",
        "from sklearn.model_selection import train_test_split\n",
        "from torch.optim.lr_scheduler import StepLR\n",
        "from torch.utils.data import DataLoader, Dataset\n",
        "from torchvision import datasets, transforms\n",
        "from tqdm.notebook import tqdm\n",
        "\n",
        "import shutil\n",
        "import os\n",
        "\n",
        "import random"
      ],
      "metadata": {
        "trusted": true
      }
    },
    {
      "cell_type": "code",
      "source": [
        "# Set paths for datasets\n",
        "dataset_dir = './datasets/'\n",
        "drive_folder = os.path.join(dataset_dir, 'KaggleDatasets')\n",
        "os.makedirs(drive_folder, exist_ok=True)"
      ],
      "metadata": {
        "trusted": true
      },
      "execution_count": null,
      "outputs": []
    },
    {
      "cell_type": "code",
      "source": [
        "# Assuming Kaggle API credentials are set up properly\n",
        "!pip install kaggle\n",
        "\n",
        "# Set up Kaggle API\n",
        "os.makedirs(os.path.expanduser('~/.kaggle'), exist_ok=True)\n",
        "shutil.copy('/workspaces/your_project/kaggle.json', os.path.expanduser('~/.kaggle/kaggle.json'))\n",
        "os.chmod(os.path.expanduser('~/.kaggle/kaggle.json'), 0o600)"
      ],
      "metadata": {
        "trusted": true
      },
      "execution_count": null,
      "outputs": []
    },
    {
      "cell_type": "code",
      "source": [
        "# Download dataset\n",
        "!kaggle datasets download -d benjaminwarner/resized-2015-2019-blindness-detection-images --path={drive_folder}"
      ],
      "metadata": {
        "trusted": true
      },
      "execution_count": null,
      "outputs": []
    },
    {
      "cell_type": "code",
      "source": [
        "print(f'Torch: {torch.__version__}')"
      ],
      "metadata": {
        "trusted": true
      },
      "execution_count": null,
      "outputs": []
    }
  ]
}
