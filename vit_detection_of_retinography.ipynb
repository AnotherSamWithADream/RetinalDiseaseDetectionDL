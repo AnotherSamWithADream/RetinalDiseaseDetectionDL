{
  "nbformat": 4,
  "nbformat_minor": 0,
  "metadata": {
    "kernelspec": {
      "display_name": "Python 3",
      "name": "python3"
    },
    "language_info": {
      "name": "python",
      "version": "3.7.10",
      "mimetype": "text/x-python",
      "codemirror_mode": {
        "name": "ipython",
        "version": 3
      },
      "pygments_lexer": "ipython3",
      "nbconvert_exporter": "python",
      "file_extension": ".py"
    }
  },
  "cells": [
    {
      "cell_type": "code",
      "metadata": {
        "trusted": true
      },
      "source": [
        "from __future__ import print_function",
        "",
        "import glob",
        "from itertools import chain",
        "",
        "import os",
        "import random",
        "import zipfile",
        "",
        "import matplotlib.pyplot as plt",
        "import numpy as np",
        "import pandas as pd",
        "import torch",
        "import torch.nn as nn",
        "import torch.nn.functional as F",
        "import torch.optim as optim",
        "from PIL import Image",
        "from sklearn.model_selection import train_test_split",
        "from torch.optim.lr_scheduler import StepLR",
        "from torch.utils.data import DataLoader, Dataset",
        "from torchvision import datasets, transforms",
        "from tqdm.notebook import tqdm",
        "",
        "import shutil"
      ],
      "execution_count": null,
      "outputs": []
    },
    {
      "cell_type": "code",
      "metadata": {
        "trusted": true
      },
      "source": [
        "# Set paths for datasets",
        "dataset_dir = './datasets/'",
        "drive_folder = os.path.join(dataset_dir, 'KaggleDatasets')",
        "os.makedirs(drive_folder, exist_ok=True)"
      ],
      "execution_count": null,
      "outputs": []
    },
    {
      "cell_type": "code",
      "metadata": {
        "trusted": true
      },
      "source": [
        "# Assuming Kaggle API credentials are set up properly",
        "!pip install kaggle",
        "",
        "# Set up Kaggle API",
        "os.makedirs(os.path.expanduser('~/.kaggle'), exist_ok=True)",
        "shutil.copy('/workspaces/your_project/kaggle.json', os.path.expanduser('~/.kaggle/kaggle.json'))",
        "os.chmod(os.path.expanduser('~/.kaggle/kaggle.json'), 0o600)"
      ],
      "execution_count": null,
      "outputs": []
    },
    {
      "cell_type": "code",
      "metadata": {
        "trusted": true
      },
      "source": [
        "# Download dataset",
        "!kaggle datasets download -d benjaminwarner/resized-2015-2019-blindness-detection-images --path=" + "\"" + drive_folder + "\""
      ],
      "execution_count": null,
      "outputs": []
    },
    {
      "cell_type": "code",
      "metadata": {
        "trusted": true
      },
      "source": [
        "print(f'Torch: {torch.__version__}')"
      ],
      "execution_count": null,
      "outputs": []
    }
  ]
}
