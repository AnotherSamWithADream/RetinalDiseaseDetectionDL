{
  "nbformat": 4,
  "nbformat_minor": 0,
  "metadata": {
    "kernelspec": {
      "display_name": "Python 3",
      "name": "python3"
    },
    "language_info": {
      "name": "python",
      "version": "3.7.10",
      "mimetype": "text/x-python",
      "codemirror_mode": {
        "name": "ipython",
        "version": 3
      },
      "pygments_lexer": "ipython3",
      "nbconvert_exporter": "python",
      "file_extension": ".py"
    }
  },
  "cells": [
    {
      "cell_type": "code",
      "metadata": {
        "trusted": true
      },
      "source": [
        "from __future__ import print_function\n",
        "import glob\n",
        "from itertools import chain\n",
        "import os\n",
        "import random\n",
        "import zipfile\n",
        "import matplotlib.pyplot as plt\n",
        "import numpy as np\n",
        "import pandas as pd\n",
        "import torch\n",
        "import torch.nn as nn\n",
        "import torch.nn.functional as F\n",
        "import torch.optim as optim\n",
        "from PIL import Image\n",
        "from sklearn.model_selection import train_test_split\n",
        "from torch.optim.lr_scheduler import StepLR\n",
        "from torch.utils.data import DataLoader, Dataset\n",
        "from torchvision import datasets, transforms\n",
        "from tqdm.notebook import tqdm\n",
        "import shutil"
      ],
      "execution_count": null,
      "outputs": []
    },
    {
      "cell_type": "code",
      "metadata": {
        "trusted": true
      },
      "source": [
        "# Set paths for datasets\n",
        "dataset_dir = './datasets/'\n",
        "kaggle_folder = os.path.join(dataset_dir, 'KaggleDatasets')\n",
        "os.makedirs(kaggle_folder, exist_ok=True)"
      ],
      "execution_count": null,
      "outputs": []
    },
    {
      "cell_type": "code",
      "metadata": {
        "trusted": true
      },
      "source": [
        "# Install Kaggle API and configure the credentials\n",
        "!pip install kaggle\n",
        "\n",
        "# Set up Kaggle API\n",
        "os.makedirs(os.path.expanduser('~/.kaggle'), exist_ok=True)\n",
        "shutil.copy('./kaggle.json', os.path.expanduser('~/.kaggle/kaggle.json'))\n",
        "os.chmod(os.path.expanduser('~/.kaggle/kaggle.json'), 0o600)"
      ],
      "execution_count": null,
      "outputs": []
    },
    {
      "cell_type": "code",
      "metadata": {
        "trusted": true
      },
      "source": [
        "# Download dataset from Kaggle to local directory\n",
        "!kaggle datasets download -d benjaminwarner/resized-2015-2019-blindness-detection-images --path=" + kaggle_folder
      ],
      "execution_count": null,
      "outputs": []
    },
    {
      "cell_type": "code",
      "metadata": {
        "trusted": true
      },
      "source": [
        "print(f'Torch: {torch.__version__}')"
      ],
      "execution_count": null,
      "outputs": []
    }
  ]
}
